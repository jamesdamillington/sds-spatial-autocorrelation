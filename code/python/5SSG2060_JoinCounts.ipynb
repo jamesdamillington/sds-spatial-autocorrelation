{
 "cells": [
  {
   "cell_type": "markdown",
   "metadata": {},
   "source": [
    "# Spatial Autocorrelation: Join Counts\n",
    "\n",
    "This python notebook introduces the Join Counts method for measuring **spatial autocorrelation**, using the [`Join_Counts` function](https://pysal.org/esda/generated/esda.Join_Counts.html#esda.Join_Counts) from the [PySAL esda module](https://pysal.org/esda/index.html). It provides an <a href=\"#overview\">overview of spatial autocorrelation</a> before presenting <a href=\"#theory\">the theory</a> (based on O'Sullivan and Unwin **2003**) and an <a href=\"#applied\">applied example</a> (based on Rey *et al.* 2020) of the join counts method. "
   ]
  },
  {
   "cell_type": "markdown",
   "metadata": {},
   "source": [
    "## Spatial Autocorrelation <a name=\"overview\"></a>\n",
    "Autocorrelation is correlation of a variable with its lagged self. In the sense used here, lag can be thought of as an offset, and when spatial autocorrelation is considered a lag is a distance across space. \n",
    "\n",
    "So, spatial autocorrelation is a quantitative measure of similarity between observations at different locations of a single variable. Contrast this *auto*correlation with normal correlation, which is a measure of similarity between observations of two variables at the same locations. \n",
    "\n",
    "Spatial autocorrelation provides a means to quantify the existence of Tobler's 'First Law' that,\n",
    "\n",
    "> Everything is related to everything else, but near things are more related than distant things.\n",
    "\n",
    "Tobler's First Law implies *positive* spatial autocorrelation, and we can think of observations of similar values as being clustered. The opposite - when distant things are more similar than near things - is known as *negative* spatial autocorrelation and we can thinking of observations of similar values as being dispersed. Negative spatial autocorrelation is quite rare in real world geographical observations. An *absence* of spatial autocorrelation implies there is no spatial structure and that a variable is distributed randomly across space. \n",
    "\n",
    "With respect to spatial autocorrelation, often in geography and spatial data science we want to know:\n",
    "\n",
    "1. Is there *any* spatial structure? (i.e. can we say a variable is *not* randomly distributed?)\n",
    "2. If there is spatial structure, what *type* is it? (i.e. positive or negative?) \n",
    "3. If there is spatial structure, how *strong* is it (i.e. how tightly clustered or broadly dispersed are values?)\n",
    "\n",
    "Spatial statistics in spatial data science provide various tools to answer these questions, including the Joins Count test for spatial autocorrelation (examined in this notebook) and Moran's I (examined in another notebook). We can also consider spatial autocorrelation *globally* across and entire data set, or *locally* for individual observations.\n",
    "\n",
    "[Section 2.2 of O'Sullivan and Unwin (2010)](https://ebookcentral.proquest.com/lib/kcl/reader.action?docID=4945124&ppg=58) provides further introduction to the concept of spatial autocorrelation, with [section 7.4](https://ebookcentral.proquest.com/lib/kcl/reader.action?docID=4945124&ppg=223) providing more detail. Also see [Rey *et al.* (2020)](https://geographicdata.science/book/notebooks/06_spatial_autocorrelation.html). "
   ]
  },
  {
   "cell_type": "markdown",
   "metadata": {},
   "source": [
    "# Theory of Join Counts <a name=\"theory\"></a>\n",
    "The joins count test for spatial autocorrelation was developed by [Cliff and Ord (1973)](https://doi.org/10.1177/030913259501900205) as a measure of global spatial autocorrelation for a binary variable (e.g. a yes/no variable). As described and worked through in Chapter 7 of O'Sullivan and Unwin (**2003**):\n",
    "\n",
    "> The joins count statistic is applied to a map of areal units where each unit is classified as either black (B) or white (W). ... The *joins count* is determined by counting the number of occurrences in the map of each of the possible joins between neighbouring areal units. The possible joins are BB, WW and BW/WB ... \n",
    "\n",
    "This notebook works through the content of [section 7.4](https://github.com/jamesdamillington/john-snow/blob/main/pdf/OSullivanUnwin2003_Section7_4.pdf) [pdf] of O'Sullivan and Unwin (**2003**); a less detailed derivation is provided in the 2010 edition of their book."
   ]
  },
  {
   "cell_type": "markdown",
   "metadata": {},
   "source": [
    "## Setting up the grids\n",
    "\n",
    "In their working, O'Sullivan and Unwin (2003) use three 6x6 grids of a binary (Black-White) variable to demonstrate the theory. The first section of this notebook sets up such grids to allow us to explore join counts with python. \n",
    "\n",
    "First, import required libraries (for the entire notebook): "
   ]
  },
  {
   "cell_type": "code",
   "execution_count": 1,
   "metadata": {},
   "outputs": [
    {
     "name": "stderr",
     "output_type": "stream",
     "text": [
      "/home/james/anaconda3/envs/sds2022/lib/python3.9/site-packages/spaghetti/network.py:36: FutureWarning: The next major release of pysal/spaghetti (2.0.0) will drop support for all ``libpysal.cg`` geometries. This change is a first step in refactoring ``spaghetti`` that is expected to result in dramatically reduced runtimes for network instantiation and operations. Users currently requiring network and point pattern input as ``libpysal.cg`` geometries should prepare for this simply by converting to ``shapely`` geometries.\n",
      "  warnings.warn(f\"{dep_msg}\", FutureWarning)\n"
     ]
    }
   ],
   "source": [
    "import pandas as pd\n",
    "import geopandas as gpd\n",
    "import numpy as np\n",
    "\n",
    "from shapely.geometry import Polygon\n",
    "\n",
    "from pysal.lib import weights\n",
    "from pysal.explore import esda\n",
    "\n",
    "import matplotlib.pyplot as plt"
   ]
  },
  {
   "cell_type": "markdown",
   "metadata": {},
   "source": [
    "We generate a basic grid similar to other notebooks on Spatial Weights (from [Rey et al. 2020](https://geographicdata.science/book/notebooks/04_spatial_weights.html#contiguity-weights)). "
   ]
  },
  {
   "cell_type": "code",
   "execution_count": 2,
   "metadata": {},
   "outputs": [
    {
     "data": {
      "image/png": "[encoded data removed]",
      "text/plain": [
       "<Figure size 640x480 with 1 Axes>"
      ]
     },
     "metadata": {},
     "output_type": "display_data"
    }
   ],
   "source": [
    "#hacked from https://geographicdata.science/book/notebooks/04_spatial_weights.html#contiguity-weights\n",
    "\n",
    "# Get points in a grid\n",
    "l = np.arange(6)\n",
    "xs, ys = np.meshgrid(l, l)\n",
    "\n",
    "# Set up store\n",
    "polys = []\n",
    "\n",
    "# Generate polygons (flipped x,y to number up/down rather than left/right)\n",
    "for y, x in zip(xs.flatten(), ys.flatten()):\n",
    "    poly = Polygon([(x, y), (x+1, y), (x+1, y+1), (x, y+1)])\n",
    "    polys.append(poly)\n",
    "\n",
    "# Convert to GeoSeries\n",
    "polys = gpd.GeoSeries(polys)\n",
    "sgrid = gpd.GeoDataFrame({'geometry': polys, \n",
    "                        'id': [i for i in range(len(polys))]})   \n",
    "\n",
    "#plot\n",
    "f,ax = plt.subplots(1,1, subplot_kw=dict(aspect='equal'))\n",
    "sgrid.plot(facecolor='w', edgecolor='k', ax=ax)\n",
    "[ax.text(x, y, t, \n",
    "          verticalalignment='center',\n",
    "          horizontalalignment='center') for x, y, t in zip(\n",
    "         [p.centroid.x-.25 for p in polys],\n",
    "         [p.centroid.y-.25 for p in polys],\n",
    "         [i for i in sgrid['id']])]\n",
    "plt.gca().set_axis_off()"
   ]
  },
  {
   "cell_type": "code",
   "execution_count": 3,
   "metadata": {},
   "outputs": [],
   "source": [
    "#function to visualise the grids we create\n",
    "def singlePlot(col, data=sgrid):\n",
    "    fig, ax = plt.subplots(1,figsize=(4,4))\n",
    "    sgrid.plot(column=col, edgecolor='w', cmap='viridis_r', ax=ax)\n",
    "    ax.set_title(col)\n",
    "    ax.axis('off')\n",
    "    plt.show()"
   ]
  },
  {
   "cell_type": "markdown",
   "metadata": {},
   "source": [
    "Generate BW grid for 'positive correlation' (two halves) - Figure 7.5a of O'Sullivan and Unwin (2003):"
   ]
  },
  {
   "cell_type": "code",
   "execution_count": 4,
   "metadata": {},
   "outputs": [
    {
     "data": {
      "image/png": "[encoded data removed]",
      "text/plain": [
       "<Figure size 400x400 with 1 Axes>"
      ]
     },
     "metadata": {},
     "output_type": "display_data"
    }
   ],
   "source": [
    "sgrid['Positive'] = np.where(sgrid['id']<18, 1, 0)\n",
    "singlePlot('Positive')"
   ]
  },
  {
   "cell_type": "markdown",
   "metadata": {},
   "source": [
    "Generate BW grid for 'negative correlation' (chess board) - Figure 7.5c of O'Sullivan and Unwin (2003):"
   ]
  },
  {
   "cell_type": "code",
   "execution_count": 5,
   "metadata": {},
   "outputs": [
    {
     "name": "stdout",
     "output_type": "stream",
     "text": [
      "[1, 0, 1, 0, 1, 0, 0, 1, 0, 1, 0, 1, 1, 0, 1, 0, 1, 0, 0, 1, 0, 1, 0, 1, 1, 0, 1, 0, 1, 0, 0, 1, 0, 1, 0, 1]\n"
     ]
    },
    {
     "data": {
      "image/png": "[encoded data removed]",
      "text/plain": [
       "<Figure size 400x400 with 1 Axes>"
      ]
     },
     "metadata": {},
     "output_type": "display_data"
    }
   ],
   "source": [
    "row1 = [1, 0, 1, 0, 1, 0]\n",
    "row2 = [0, 1, 0, 1, 0, 1]\n",
    "\n",
    "neg = row1 + row2\n",
    "neg = neg * 3\n",
    "print(neg)\n",
    "sgrid['Negative'] = neg\n",
    "singlePlot('Negative')"
   ]
  },
  {
   "cell_type": "markdown",
   "metadata": {},
   "source": [
    "The third grid O'Sullivan and Unwin (2003) present - Figure 7.5b - was created by flipping a coin. Code to reproduce their random grid exactly is provided in the section below on <a href=\"analyic\">Analytic Statistical Significance</a>, but for most of this notebook we will use our own randomly generated grid:"
   ]
  },
  {
   "cell_type": "code",
   "execution_count": 6,
   "metadata": {},
   "outputs": [
    {
     "name": "stdout",
     "output_type": "stream",
     "text": [
      "[1, 1, 0, 0, 0, 1, 0, 1, 0, 1, 1, 1, 0, 0, 0, 0, 1, 1, 1, 1, 0, 1, 0, 0, 0, 0, 0, 1, 1, 1, 0, 1, 0, 0, 1, 1]\n"
     ]
    },
    {
     "data": {
      "image/png": "[encoded data removed]",
      "text/plain": [
       "<Figure size 400x400 with 1 Axes>"
      ]
     },
     "metadata": {},
     "output_type": "display_data"
    }
   ],
   "source": [
    "b = [1] * 18\n",
    "w = [0] * 18\n",
    "randbw = b + w\n",
    "np.random.seed(2)  #change seed to generate different outcomes\n",
    "np.random.shuffle(randbw)\n",
    "print(randbw)\n",
    "\n",
    "sgrid['Random'] = randbw\n",
    "singlePlot('Random')"
   ]
  },
  {
   "cell_type": "markdown",
   "metadata": {},
   "source": [
    "Let's quickly visualise the DataFrame we've created:"
   ]
  },
  {
   "cell_type": "code",
   "execution_count": 7,
   "metadata": {},
   "outputs": [
    {
     "data": {
      "text/html": [
       "<div>\n",
       "<style scoped>\n",
       "    .dataframe tbody tr th:only-of-type {\n",
       "        vertical-align: middle;\n",
       "    }\n",
       "\n",
       "    .dataframe tbody tr th {\n",
       "        vertical-align: top;\n",
       "    }\n",
       "\n",
       "    .dataframe thead th {\n",
       "        text-align: right;\n",
       "    }\n",
       "</style>\n",
       "<table border=\"1\" class=\"dataframe\">\n",
       "  <thead>\n",
       "    <tr style=\"text-align: right;\">\n",
       "      <th></th>\n",
       "      <th>geometry</th>\n",
       "      <th>id</th>\n",
       "      <th>Positive</th>\n",
       "      <th>Negative</th>\n",
       "      <th>Random</th>\n",
       "    </tr>\n",
       "  </thead>\n",
       "  <tbody>\n",
       "    <tr>\n",
       "      <th>0</th>\n",
       "      <td>POLYGON ((0.00000 0.00000, 1.00000 0.00000, 1....</td>\n",
       "      <td>0</td>\n",
       "      <td>1</td>\n",
       "      <td>1</td>\n",
       "      <td>1</td>\n",
       "    </tr>\n",
       "    <tr>\n",
       "      <th>1</th>\n",
       "      <td>POLYGON ((0.00000 1.00000, 1.00000 1.00000, 1....</td>\n",
       "      <td>1</td>\n",
       "      <td>1</td>\n",
       "      <td>0</td>\n",
       "      <td>1</td>\n",
       "    </tr>\n",
       "    <tr>\n",
       "      <th>2</th>\n",
       "      <td>POLYGON ((0.00000 2.00000, 1.00000 2.00000, 1....</td>\n",
       "      <td>2</td>\n",
       "      <td>1</td>\n",
       "      <td>1</td>\n",
       "      <td>0</td>\n",
       "    </tr>\n",
       "    <tr>\n",
       "      <th>3</th>\n",
       "      <td>POLYGON ((0.00000 3.00000, 1.00000 3.00000, 1....</td>\n",
       "      <td>3</td>\n",
       "      <td>1</td>\n",
       "      <td>0</td>\n",
       "      <td>0</td>\n",
       "    </tr>\n",
       "    <tr>\n",
       "      <th>4</th>\n",
       "      <td>POLYGON ((0.00000 4.00000, 1.00000 4.00000, 1....</td>\n",
       "      <td>4</td>\n",
       "      <td>1</td>\n",
       "      <td>1</td>\n",
       "      <td>0</td>\n",
       "    </tr>\n",
       "  </tbody>\n",
       "</table>\n",
       "</div>"
      ],
      "text/plain": [
       "                                            geometry  id  Positive  Negative  \\\n",
       "0  POLYGON ((0.00000 0.00000, 1.00000 0.00000, 1....   0         1         1   \n",
       "1  POLYGON ((0.00000 1.00000, 1.00000 1.00000, 1....   1         1         0   \n",
       "2  POLYGON ((0.00000 2.00000, 1.00000 2.00000, 1....   2         1         1   \n",
       "3  POLYGON ((0.00000 3.00000, 1.00000 3.00000, 1....   3         1         0   \n",
       "4  POLYGON ((0.00000 4.00000, 1.00000 4.00000, 1....   4         1         1   \n",
       "\n",
       "   Random  \n",
       "0       1  \n",
       "1       1  \n",
       "2       0  \n",
       "3       0  \n",
       "4       0  "
      ]
     },
     "execution_count": 7,
     "metadata": {},
     "output_type": "execute_result"
    }
   ],
   "source": [
    "sgrid.head()"
   ]
  },
  {
   "cell_type": "markdown",
   "metadata": {},
   "source": [
    "In our data we have `1`s for B and `0`s for W. \n",
    "\n",
    "And we can visualise all the grids together:  <a name=\"vis\"></a>"
   ]
  },
  {
   "cell_type": "code",
   "execution_count": 8,
   "metadata": {},
   "outputs": [
    {
     "data": {
      "image/png": "[encoded data removed]",
      "text/plain": [
       "<Figure size 1200x600 with 3 Axes>"
      ]
     },
     "metadata": {},
     "output_type": "display_data"
    }
   ],
   "source": [
    "fig, ax = plt.subplots(1,3,figsize=(12, 6))\n",
    "ax=ax.flatten()\n",
    "for idx, val in enumerate(list(sgrid.loc[:,'Positive':'Random'])):\n",
    "    sgrid.plot(column=val, edgecolor='w', cmap='viridis_r', ax=ax[idx])\n",
    "    ax[idx].set_title(val)\n",
    "    ax[idx].axis('off')\n",
    "plt.show()"
   ]
  },
  {
   "cell_type": "markdown",
   "metadata": {},
   "source": [
    "## Assessing Type of Spatial Autocorrelation <a name=\"type\"></a>\n",
    "\n",
    "Join counts are a special case of [*Contiguity Spatial Weights*](https://geographicdata.science/book/notebooks/04_spatial_weights.html#contiguity-weights), the difference being that neighbours are now deemed to be 'joined' differently depending on whether they are alike (i.e. both of the same type; BB and WW joins) or unalike (i.e. different types; BW join). However, similar to contiguity weights, we still need to decide whether to use the Queen Rule or the Rook Rule. \n",
    "\n",
    "So the first step in calculating join counts with PySAL is to a create spatial weights object using contiguity rules. Here we'll examine both Queen and Rook: "
   ]
  },
  {
   "cell_type": "code",
   "execution_count": 9,
   "metadata": {},
   "outputs": [],
   "source": [
    "RW = weights.contiguity.Rook.from_dataframe(sgrid, idVariable='id')\n",
    "QW = weights.contiguity.Queen.from_dataframe(sgrid, idVariable='id')"
   ]
  },
  {
   "cell_type": "markdown",
   "metadata": {},
   "source": [
    "Note, that these weights objects are created *irrespective* of B and W values in the grid cells. These spatial weights are concerned with the spatial relationship only; they define neighbours, not joins. The different types of joins (BB, WW, BW) are established by the [`Join_Counts` function](https://pysal.org/esda/generated/esda.Join_Counts.html#esda.Join_Counts), which takes a `weights.contiguity` spatial weights object as an argument. The full list of parameters we can pass `Join_Counts` is as follows:\n",
    "```\n",
    "y (array):          binary variable measured across n spatial units\n",
    "w (W):              spatial weights instance \n",
    "permutations (int): number of random permutations for calculation of pseudo-p_values`\n",
    "```\n",
    "\n",
    "The default value for `permutations` is 999. We'll see more on this below. \n",
    "\n",
    "For now, our first Join Counts object will be created for the *Positive* grid (by passing the `sgrid['Positive']` binary array) and using *Rook Rule* (by passing `RW` contiguity weights object) as follows:"
   ]
  },
  {
   "cell_type": "code",
   "execution_count": 10,
   "metadata": {},
   "outputs": [],
   "source": [
    "posJCR = esda.join_counts.Join_Counts(sgrid['Positive'], RW)"
   ]
  },
  {
   "cell_type": "markdown",
   "metadata": {},
   "source": [
    "There are numerous attributes we can access in the `join_count` objects produced, including counts of the different types of joins, the total number of joins, the original data, and estimated p-values to infer if there is significant spatial autocorrelation (or otherwise). \n",
    "\n",
    "To get the number (count) of BB joins:"
   ]
  },
  {
   "cell_type": "code",
   "execution_count": 11,
   "metadata": {},
   "outputs": [
    {
     "data": {
      "text/plain": [
       "27.0"
      ]
     },
     "execution_count": 11,
     "metadata": {},
     "output_type": "execute_result"
    }
   ],
   "source": [
    "posJCR.bb"
   ]
  },
  {
   "cell_type": "markdown",
   "metadata": {},
   "source": [
    "To get the number (count) of WW joins:"
   ]
  },
  {
   "cell_type": "code",
   "execution_count": 12,
   "metadata": {},
   "outputs": [
    {
     "data": {
      "text/plain": [
       "27.0"
      ]
     },
     "execution_count": 12,
     "metadata": {},
     "output_type": "execute_result"
    }
   ],
   "source": [
    "posJCR.ww"
   ]
  },
  {
   "cell_type": "markdown",
   "metadata": {},
   "source": [
    "To get the number (count) of BW joins:"
   ]
  },
  {
   "cell_type": "code",
   "execution_count": 13,
   "metadata": {},
   "outputs": [
    {
     "data": {
      "text/plain": [
       "6.0"
      ]
     },
     "execution_count": 13,
     "metadata": {},
     "output_type": "execute_result"
    }
   ],
   "source": [
    "posJCR.bw"
   ]
  },
  {
   "cell_type": "markdown",
   "metadata": {},
   "source": [
    "To get the total number (count) of all types of join:"
   ]
  },
  {
   "cell_type": "code",
   "execution_count": 14,
   "metadata": {},
   "outputs": [
    {
     "data": {
      "text/plain": [
       "60.0"
      ]
     },
     "execution_count": 14,
     "metadata": {},
     "output_type": "execute_result"
    }
   ],
   "source": [
    "posJCR.J"
   ]
  },
  {
   "cell_type": "markdown",
   "metadata": {},
   "source": [
    "From these values we can get a quick idea of whether there are more alike joins compared to unalike joins, and the sort of proportion those contribute to the total number of joins.   \n",
    "\n",
    "You should be able to see that in our 'positive' grid the total number of alike joins (54) dominates the number of unalike joins (6). <a href=\"#vis\">See</a> how the six unalike joins are those linking the Black-White cells down the central column of the grid; all other joins are alike (either Black-with-Black or White-with-White). "
   ]
  },
  {
   "cell_type": "markdown",
   "metadata": {},
   "source": [
    "Already we can see how the join counts method helps to assess spatial autocorrelation:\n",
    "\n",
    "- a much greater number of alike joins implies the presence of positive spatial autocorrelation\n",
    "- a similar number of alike and unalike joins implies a lack of spatial autocorrelation\n",
    "- a much greater number of unalike joins implies the presence of negative spatial autocorrelation"
   ]
  },
  {
   "cell_type": "markdown",
   "metadata": {},
   "source": [
    "While this is a quick way to judge for possible spatial autocorrelation, we need to do more calculations to be able to assess whether there is any statistically significant (at a chosen level of confidence) autocorrelation. The two main ways to do this are:\n",
    "\n",
    "1. <a href=\"#analytic\">Analytically</a> using equations derived from probability theory\n",
    "2. Using a <a href=\"#perm\">permutation approach</a> with many, many random grids\n",
    "\n",
    "We need to write some more code to do 1) and an example using Python is shown below. However, the PySAL `join_counts` function does 2) for us, and this approach is more frequently used so we will consider it here first. However, you are encouraged to contine to review the analytical method to help compound your understanding. "
   ]
  },
  {
   "cell_type": "markdown",
   "metadata": {},
   "source": [
    "## Assessing Presence of Spatial Autocorrelation (Permutation) <a name=\"perm\"></a>\n",
    "\n",
    "When investigating spatial autocorrelation, a question we often have is whether the observed configuration (spatial pattern) is statistically significantly different from a random spatial configuration.\n",
    "\n",
    "One way to assess this is to artifically simulate many, many spatial configurations (permutations) using the same input data set; each permutation takes the observed Black and White regions and shuffles them randomly into spatial locations. You can think of this as repeatedly running the code above that generates the *Random* grid (using a different random seed each time). \n",
    "\n",
    "We can then compare our statistic of spatial autocorrelation (e.g. counts of BB) for our observed configuration to the statistic for *all* the permutations. The ratio of the number of times the simulated statistic is greater than (or equal to) the statistic for the observed configuration can then be treated as a *pseudo* p-value for the null hypothesis that there is no difference between simulated (random) and observed statistics: \n",
    "\n",
    "*pseudo_P = (C_greater + 1) / (C_permutations + 1)*\n",
    "\n",
    "where *C_greater* is the count of times statistic *s* is greater than (or equal to) the permutation *s*, and *C_permutations* is the count of permutations. In PySAL, statistic *s* can be the count of BB joins or the count of BW joins (i.e. we can get a pseudo p-value for these statistics). \n",
    "\n",
    "So for example, let's check the p-value for BB and BW counts for the `posJCR` grid above, using `.p_sim_bb` and `.p_sim_bw` attributes:"
   ]
  },
  {
   "cell_type": "code",
   "execution_count": 15,
   "metadata": {},
   "outputs": [
    {
     "data": {
      "text/plain": [
       "0.001"
      ]
     },
     "execution_count": 15,
     "metadata": {},
     "output_type": "execute_result"
    }
   ],
   "source": [
    "posJCR.p_sim_bb"
   ]
  },
  {
   "cell_type": "code",
   "execution_count": 16,
   "metadata": {},
   "outputs": [
    {
     "data": {
      "text/plain": [
       "1.0"
      ]
     },
     "execution_count": 16,
     "metadata": {},
     "output_type": "execute_result"
    }
   ],
   "source": [
    "posJCR.p_sim_bw"
   ]
  },
  {
   "cell_type": "markdown",
   "metadata": {},
   "source": [
    "Remember, hypotheses for [these p-values](https://pysal.org/esda/generated/esda.Join_Counts.html#esda.Join_Counts) are:\n",
    "- Null: complete spatial randomness\n",
    "- Alternative: the observed BW or BB is greater than under randomness"
   ]
  },
  {
   "cell_type": "markdown",
   "metadata": {},
   "source": [
    "So the results above indicate that can be very confident (e.g. 99% confident) that rejecting the null hypothesis for BB is the correct thing to do (because pseudo p < 0.01) but not for BW (because pseudo p >= 0.01). In turn, this means we can say that at 99% confidence there is positive spatial autocorrelation (according to the join counts statistic).  "
   ]
  },
  {
   "cell_type": "markdown",
   "metadata": {},
   "source": [
    "PySAL enables access to the results of the permutations via `.sim_bb` and `.sim_bw` attributes, so we could check how the pseudo p-values were calculated for ourselves: "
   ]
  },
  {
   "cell_type": "code",
   "execution_count": 17,
   "metadata": {},
   "outputs": [
    {
     "name": "stdout",
     "output_type": "stream",
     "text": [
      "[15.0 14.0 18.0 16.0 16.0 14.0 13.0 17.0 15.0 11.0 16.0 12.0 14.0 12.0\n",
      " 19.0 14.0 14.0 15.0 15.0 15.0 14.0 16.0 17.0 15.0 14.0 16.0 14.0 12.0\n",
      " 18.0 13.0 16.0 10.0 14.0 15.0 13.0 13.0 14.0 21.0 13.0 14.0 19.0 16.0\n",
      " 12.0 15.0 13.0 18.0 14.0 18.0 14.0 17.0 16.0 14.0 17.0 11.0 14.0 14.0\n",
      " 13.0 13.0 14.0 13.0 18.0 14.0 14.0 14.0 9.0 14.0 12.0 18.0 14.0 17.0 10.0\n",
      " 15.0 12.0 11.0 14.0 13.0 18.0 15.0 15.0 14.0 16.0 15.0 14.0 15.0 13.0\n",
      " 11.0 15.0 14.0 17.0 13.0 15.0 13.0 12.0 11.0 15.0 16.0 19.0 16.0 15.0\n",
      " 14.0 16.0 15.0 16.0 15.0 17.0 15.0 17.0 19.0 13.0 14.0 15.0 16.0 13.0\n",
      " 13.0 16.0 11.0 13.0 16.0 14.0 12.0 15.0 14.0 13.0 17.0 13.0 16.0 14.0\n",
      " 11.0 15.0 14.0 11.0 14.0 12.0 13.0 13.0 14.0 15.0 15.0 16.0 10.0 15.0\n",
      " 14.0 17.0 17.0 15.0 15.0 13.0 14.0 13.0 16.0 11.0 13.0 11.0 14.0 12.0\n",
      " 15.0 14.0 14.0 14.0 13.0 10.0 16.0 13.0 15.0 14.0 18.0 16.0 14.0 12.0\n",
      " 12.0 14.0 13.0 19.0 15.0 14.0 11.0 15.0 14.0 14.0 15.0 15.0 14.0 18.0\n",
      " 17.0 12.0 13.0 14.0 13.0 14.0 16.0 15.0 15.0 17.0 12.0 12.0 14.0 13.0\n",
      " 15.0 12.0 22.0 13.0 12.0 15.0 14.0 18.0 13.0 15.0 19.0 13.0 13.0 17.0\n",
      " 16.0 14.0 13.0 13.0 15.0 15.0 16.0 18.0 17.0 14.0 12.0 17.0 14.0 13.0\n",
      " 13.0 15.0 15.0 12.0 12.0 13.0 10.0 18.0 13.0 13.0 14.0 16.0 16.0 14.0\n",
      " 17.0 10.0 18.0 16.0 12.0 13.0 18.0 14.0 12.0 15.0 15.0 21.0 12.0 14.0\n",
      " 13.0 12.0 11.0 12.0 13.0 13.0 14.0 14.0 15.0 14.0 12.0 13.0 17.0 15.0\n",
      " 14.0 15.0 14.0 15.0 16.0 14.0 13.0 15.0 13.0 14.0 12.0 12.0 15.0 17.0\n",
      " 17.0 16.0 12.0 18.0 18.0 12.0 15.0 15.0 13.0 14.0 15.0 16.0 13.0 12.0\n",
      " 10.0 13.0 16.0 14.0 16.0 19.0 13.0 16.0 13.0 15.0 15.0 15.0 11.0 12.0\n",
      " 15.0 16.0 16.0 14.0 13.0 12.0 15.0 14.0 13.0 15.0 14.0 15.0 13.0 13.0\n",
      " 15.0 12.0 12.0 15.0 17.0 15.0 13.0 16.0 12.0 18.0 18.0 16.0 17.0 13.0\n",
      " 17.0 19.0 18.0 14.0 18.0 17.0 18.0 17.0 16.0 15.0 14.0 13.0 15.0 16.0\n",
      " 13.0 20.0 13.0 12.0 14.0 12.0 16.0 15.0 15.0 14.0 18.0 15.0 18.0 14.0\n",
      " 14.0 14.0 16.0 15.0 16.0 12.0 14.0 14.0 14.0 15.0 17.0 13.0 14.0 10.0\n",
      " 16.0 14.0 15.0 16.0 17.0 12.0 15.0 13.0 12.0 15.0 15.0 11.0 15.0 15.0\n",
      " 13.0 15.0 16.0 15.0 15.0 16.0 12.0 16.0 14.0 19.0 11.0 13.0 15.0 16.0\n",
      " 14.0 11.0 19.0 15.0 14.0 12.0 14.0 15.0 17.0 9.0 13.0 14.0 17.0 14.0 17.0\n",
      " 15.0 13.0 16.0 15.0 14.0 14.0 17.0 13.0 17.0 17.0 19.0 16.0 18.0 15.0\n",
      " 12.0 14.0 18.0 15.0 15.0 16.0 14.0 16.0 18.0 14.0 16.0 14.0 16.0 19.0\n",
      " 16.0 15.0 13.0 15.0 11.0 10.0 14.0 13.0 14.0 13.0 12.0 14.0 19.0 14.0\n",
      " 14.0 13.0 17.0 12.0 12.0 16.0 15.0 14.0 16.0 16.0 16.0 17.0 11.0 14.0\n",
      " 13.0 14.0 15.0 14.0 14.0 17.0 16.0 10.0 14.0 15.0 18.0 15.0 13.0 14.0\n",
      " 13.0 16.0 14.0 16.0 14.0 13.0 15.0 15.0 16.0 14.0 14.0 21.0 13.0 17.0\n",
      " 16.0 17.0 12.0 16.0 18.0 14.0 14.0 17.0 14.0 14.0 16.0 13.0 14.0 13.0\n",
      " 12.0 17.0 16.0 14.0 16.0 15.0 17.0 14.0 15.0 18.0 15.0 16.0 16.0 17.0\n",
      " 15.0 13.0 9.0 15.0 11.0 17.0 16.0 13.0 16.0 14.0 15.0 14.0 18.0 20.0 13.0\n",
      " 14.0 16.0 16.0 16.0 11.0 14.0 16.0 21.0 13.0 14.0 14.0 15.0 17.0 14.0\n",
      " 11.0 15.0 13.0 12.0 14.0 15.0 15.0 13.0 16.0 15.0 16.0 13.0 14.0 16.0\n",
      " 16.0 14.0 15.0 14.0 17.0 15.0 16.0 13.0 17.0 18.0 15.0 14.0 13.0 11.0\n",
      " 13.0 15.0 13.0 14.0 15.0 16.0 15.0 11.0 14.0 16.0 15.0 13.0 17.0 19.0\n",
      " 13.0 16.0 13.0 13.0 15.0 14.0 14.0 13.0 16.0 14.0 13.0 15.0 12.0 9.0 17.0\n",
      " 13.0 16.0 12.0 15.0 15.0 12.0 14.0 18.0 15.0 14.0 15.0 13.0 15.0 14.0\n",
      " 13.0 13.0 19.0 16.0 13.0 15.0 9.0 18.0 14.0 16.0 16.0 11.0 13.0 17.0 17.0\n",
      " 11.0 14.0 17.0 14.0 15.0 11.0 14.0 15.0 15.0 15.0 18.0 16.0 17.0 14.0\n",
      " 13.0 13.0 13.0 11.0 15.0 18.0 13.0 14.0 13.0 18.0 16.0 12.0 14.0 12.0\n",
      " 15.0 14.0 15.0 14.0 15.0 13.0 16.0 12.0 17.0 14.0 13.0 12.0 13.0 16.0\n",
      " 15.0 13.0 14.0 14.0 15.0 14.0 15.0 16.0 19.0 11.0 15.0 16.0 18.0 14.0\n",
      " 13.0 16.0 16.0 14.0 13.0 13.0 17.0 17.0 17.0 14.0 13.0 17.0 15.0 14.0\n",
      " 12.0 14.0 16.0 19.0 14.0 11.0 12.0 17.0 15.0 14.0 14.0 12.0 17.0 14.0\n",
      " 18.0 16.0 12.0 14.0 13.0 16.0 12.0 12.0 11.0 13.0 16.0 19.0 13.0 13.0\n",
      " 16.0 13.0 15.0 13.0 15.0 13.0 18.0 16.0 16.0 18.0 17.0 15.0 13.0 12.0\n",
      " 19.0 17.0 16.0 11.0 15.0 13.0 15.0 17.0 13.0 14.0 15.0 14.0 16.0 13.0\n",
      " 16.0 16.0 15.0 12.0 15.0 14.0 15.0 15.0 15.0 13.0 18.0 14.0 15.0 17.0\n",
      " 17.0 15.0 15.0 15.0 13.0 16.0 14.0 15.0 17.0 13.0 14.0 12.0 15.0 14.0\n",
      " 17.0 13.0 12.0 15.0 11.0 11.0 14.0 14.0 14.0 15.0 13.0 15.0 14.0 15.0\n",
      " 14.0 18.0 16.0 15.0 16.0 13.0 13.0 14.0 12.0 18.0 17.0 14.0 13.0 17.0\n",
      " 14.0 15.0 12.0 15.0 15.0 13.0 16.0 15.0 14.0 13.0 12.0 12.0 14.0 20.0\n",
      " 12.0 13.0 14.0 15.0 11.0 13.0 15.0 12.0 16.0 13.0 11.0 16.0 15.0 15.0\n",
      " 14.0 17.0 13.0 14.0 13.0 16.0 14.0 14.0 14.0 15.0 13.0 15.0 11.0 13.0\n",
      " 18.0 13.0 14.0 17.0 13.0 13.0 14.0 17.0 12.0 14.0 20.0 15.0 12.0 12.0\n",
      " 12.0 17.0 15.0 19.0 16.0 12.0 13.0 14.0 19.0 16.0 15.0 15.0 17.0 10.0\n",
      " 12.0 16.0 14.0 14.0 16.0 10.0 17.0 15.0 13.0 12.0 15.0 15.0 12.0 13.0\n",
      " 16.0 15.0 12.0 13.0 13.0 15.0 15.0 15.0 16.0 13.0 16.0 15.0 16.0 14.0\n",
      " 16.0 15.0 16.0 16.0 15.0 18.0 14.0 14.0 14.0 11.0 14.0 15.0 16.0 14.0\n",
      " 13.0 17.0 15.0 18.0 13.0 14.0 16.0 12.0 15.0 22.0 13.0 13.0 13.0 16.0\n",
      " 16.0 18.0 16.0 13.0 20.0 14.0 14.0 14.0 13.0 15.0 13.0 12.0 16.0 14.0\n",
      " 13.0 14.0 15.0 12.0 18.0 13.0 16.0 13.0 18.0 14.0 13.0 16.0 15.0 13.0\n",
      " 14.0 14.0 16.0 15.0 17.0 16.0 15.0 16.0 12.0 15.0 14.0 13.0 15.0 19.0]\n"
     ]
    }
   ],
   "source": [
    "print(posJCR.sim_bb)"
   ]
  },
  {
   "cell_type": "markdown",
   "metadata": {},
   "source": [
    "For positive spatial autocorrelation we would expect to observe more BB joins than when generated under complete spatial randomness. Remember that the observed count of BB joins (*countBB*) for our *positive grid* was 27. Check for yourself how many times in the random permutations above we got a *countBB* greater than (or equal to) 27. From a quick scan you should be able to see that the randomly simulated grids (i.e. the permutations) *never* had more than 26 BB joins. \n",
    "\n",
    "To check visually, let's plot a histogram of all the simulated counts of BB and compare to our observed BB (the dashed red line):"
   ]
  },
  {
   "cell_type": "code",
   "execution_count": 18,
   "metadata": {},
   "outputs": [
    {
     "data": {
      "image/png": "[encoded data removed]",
      "text/plain": [
       "<Figure size 640x480 with 1 Axes>"
      ]
     },
     "metadata": {},
     "output_type": "display_data"
    }
   ],
   "source": [
    "plt.hist(posJCR.sim_bb, 10, facecolor='lightblue', edgecolor='black')\n",
    "plt.vlines(posJCR.bb, 0, 400, color='r', linestyle=\"--\")\n",
    "plt.xlabel(\"BB Count\")\n",
    "plt.ylabel(\"Frequency\")\n",
    "plt.show()"
   ]
  },
  {
   "cell_type": "markdown",
   "metadata": {},
   "source": [
    "We can see that our observed 27 BB joins is much greater than we would expect under complete spatial randomness, given the number of B and W cells in our grid. It's very unlikely that our large observed count of 27 BB joins was produced by chance, and hence we get a very small pseudo p-value. "
   ]
  },
  {
   "cell_type": "markdown",
   "metadata": {},
   "source": [
    "We can do some final calculations to confirm. First, we count how many times `posJCR.sim_bb >= posJCR.bb` is true:"
   ]
  },
  {
   "cell_type": "code",
   "execution_count": 19,
   "metadata": {},
   "outputs": [],
   "source": [
    "C_greater = sum(posJCR.sim_bb >= posJCR.bb)"
   ]
  },
  {
   "cell_type": "markdown",
   "metadata": {},
   "source": [
    "Then we get the number of permutations that were used:"
   ]
  },
  {
   "cell_type": "code",
   "execution_count": 20,
   "metadata": {},
   "outputs": [],
   "source": [
    "C_permutations= len(posJCR.sim_bb)\n",
    "\n",
    "#note we could also use the .permutations attribute:\n",
    "#C_permutations = posJCR.permutations"
   ]
  },
  {
   "cell_type": "markdown",
   "metadata": {},
   "source": [
    "Now we can calculate the pseudo p-value as above:"
   ]
  },
  {
   "cell_type": "code",
   "execution_count": 21,
   "metadata": {},
   "outputs": [
    {
     "name": "stdout",
     "output_type": "stream",
     "text": [
      "0.001\n"
     ]
    }
   ],
   "source": [
    "pseudo_P = (C_greater + 1) / (C_permutations + 1)\n",
    "print(pseudo_P)"
   ]
  },
  {
   "cell_type": "markdown",
   "metadata": {},
   "source": [
    "This is how PySAL is calculating the pseduo p-value itself!"
   ]
  },
  {
   "cell_type": "markdown",
   "metadata": {},
   "source": [
    "Now that we have checked the *positive* grid, let's go on to look at the *negative* and *random* grids we created above to check we can interpret the join counts statistics for those too. \n",
    "\n",
    "We'll use a function output the results (so we don't need to type code everytime):"
   ]
  },
  {
   "cell_type": "code",
   "execution_count": 22,
   "metadata": {},
   "outputs": [],
   "source": [
    "#function to output (permutation) results from join_counts object \n",
    "def printJointCounts_perm(JCW):\n",
    "    bcount = JCW.y.sum()\n",
    "    wcount = len(JCW.y) - bcount\n",
    "    print(\"Count Black = \" + str(bcount)) \n",
    "    print(\"Count White = \" + str(wcount)) \n",
    "    print(\"Total Joins = \" + str(JCW.J))\n",
    "    print(\"BB Joins: count = \" + str(JCW.bb) + \", pseudo p = \" + str(round(JCW.p_sim_bb,3)) + \")\")\n",
    "    print(\"WW Joins: count = \" + str(JCW.ww))\n",
    "    print(\"BW Joins: count = \" + str(JCW.bw) + \", pseudo p = \" + str(round(JCW.p_sim_bw,3)) + \")\")"
   ]
  },
  {
   "cell_type": "markdown",
   "metadata": {},
   "source": [
    "Now we can create a `Join_Counts` object for the *Negative Grid* and print the results:"
   ]
  },
  {
   "cell_type": "code",
   "execution_count": 23,
   "metadata": {},
   "outputs": [
    {
     "name": "stdout",
     "output_type": "stream",
     "text": [
      "Count Black = 18\n",
      "Count White = 18\n",
      "Total Joins = 60.0\n",
      "BB Joins: count = 0.0, pseudo p = 1.0)\n",
      "WW Joins: count = 0.0\n",
      "BW Joins: count = 60.0, pseudo p = 0.001)\n"
     ]
    }
   ],
   "source": [
    "negJCR = esda.join_counts.Join_Counts(sgrid['Negative'], RW)\n",
    "printJointCounts_perm(negJCR)"
   ]
  },
  {
   "cell_type": "markdown",
   "metadata": {},
   "source": [
    "Here, we get a very small pseudo p-value for the BW joins count, meaning we can reject the null hypothesis of complete spatial randomness (e.g. at 95% confidence) and conclude that there is negative spatial autocorrelation. \n",
    "\n",
    "And for the *Random Grid*:"
   ]
  },
  {
   "cell_type": "code",
   "execution_count": 24,
   "metadata": {},
   "outputs": [
    {
     "name": "stdout",
     "output_type": "stream",
     "text": [
      "Count Black = 18\n",
      "Count White = 18\n",
      "Total Joins = 60.0\n",
      "BB Joins: count = 15.0, pseudo p = 0.487)\n",
      "WW Joins: count = 16.0\n",
      "BW Joins: count = 29.0, pseudo p = 0.735)\n"
     ]
    }
   ],
   "source": [
    "randJCR = esda.join_counts.Join_Counts(sgrid['Random'], RW)\n",
    "printJointCounts_perm(randJCR)"
   ]
  },
  {
   "cell_type": "markdown",
   "metadata": {},
   "source": [
    "Here, pseudo p-values for both BW and BB joins count are *not* small, meaning we cannot reject the null hypothesis of complete spatial randomness (e.g. at 95% confidence) and we can conclude that there is *no* spatial autocorrelation (neither positive nor negative). "
   ]
  },
  {
   "cell_type": "markdown",
   "metadata": {},
   "source": [
    "### A note on WW\n",
    "You may be wondering why we didn't check the pseudo p-value for WW join counts above. There are two reasons for this, one pragmatic and one theoretical. \n",
    "\n",
    "Pragmatically, we didn't because PySAL does not generate permutations for WW joins. So if we wanted to, we would need to write our own code to calculate WW join counts for each permutation and then compare (which maybe you could, using the [source code](https://pysal.org/esda/_modules/esda/join_counts.html#Join_Counts) as a guide).\n",
    "\n",
    "Theoretically, we don't *need* to generate pseudo p-values for WW. This is because we can assume that whatever result we get for BB will be the same for WW as they have a reciprocal relationship in this binary case. If we have positive spatial autocorrelation for BB then we *must* also have positive spatial autocorrelation for WW. And if we no spatial autocorrelation for BB then we also have no spatial autocorrelation for WW. Finally, the BW measure already accounts for both Black and White regions (so any negative autocorrelation found already applies to both region types).   "
   ]
  },
  {
   "cell_type": "markdown",
   "metadata": {},
   "source": [
    "### A note of caution\n",
    "\n",
    "Let's create `join_counts` objects for <a href=\"#vis\">the three grids</a>, but this time using the *Queen Rule*."
   ]
  },
  {
   "cell_type": "code",
   "execution_count": 25,
   "metadata": {},
   "outputs": [
    {
     "name": "stdout",
     "output_type": "stream",
     "text": [
      "Count Black = 18\n",
      "Count White = 18\n",
      "Total Joins = 110.0\n",
      "BB Joins: count = 47.0, pseudo p = 0.001)\n",
      "WW Joins: count = 47.0\n",
      "BW Joins: count = 16.0, pseudo p = 1.0)\n"
     ]
    }
   ],
   "source": [
    "posJCQ = esda.join_counts.Join_Counts(sgrid['Positive'], QW)\n",
    "printJointCounts_perm(posJCQ)"
   ]
  },
  {
   "cell_type": "code",
   "execution_count": 26,
   "metadata": {},
   "outputs": [
    {
     "name": "stdout",
     "output_type": "stream",
     "text": [
      "Count Black = 18\n",
      "Count White = 18\n",
      "Total Joins = 110.0\n",
      "BB Joins: count = 25.0, pseudo p = 0.72)\n",
      "WW Joins: count = 25.0\n",
      "BW Joins: count = 60.0, pseudo p = 0.299)\n"
     ]
    }
   ],
   "source": [
    "negJCQ = esda.join_counts.Join_Counts(sgrid['Negative'], QW)\n",
    "printJointCounts_perm(negJCQ)"
   ]
  },
  {
   "cell_type": "code",
   "execution_count": 27,
   "metadata": {},
   "outputs": [
    {
     "name": "stdout",
     "output_type": "stream",
     "text": [
      "Count Black = 18\n",
      "Count White = 18\n",
      "Total Joins = 110.0\n",
      "BB Joins: count = 25.0, pseudo p = 0.724)\n",
      "WW Joins: count = 27.0\n",
      "BW Joins: count = 58.0, pseudo p = 0.446)\n"
     ]
    }
   ],
   "source": [
    "randJCQ = esda.join_counts.Join_Counts(sgrid['Random'], QW)\n",
    "printJointCounts_perm(randJCQ)"
   ]
  },
  {
   "cell_type": "markdown",
   "metadata": {},
   "source": [
    "Compare these results for the Rook Rule to the joins count statistics and pseudo p-values when using the Queen Rule. For example, look to see if there there is positive, negative or no spatial autocorrelation for each grid.  \n",
    "\n",
    "You should be able to see that results are consistent between Rook and Queen rules for the *Positive* (both indicate positive spatial autocorrelation) and *Random* (no spatial autocorrelation) grids. But for the *Negative* grid note that while the pseudo p-value indicates statistically significant (at 95%) negative spatial autocorrelation for the Rook Rule, the results indicate *no* spatial autocorrelation for the Queen Rule. Think about why the configuration for the *Negative grid* results in this inconsistency. \n",
    "\n",
    "As [O'Sullivan and Unwin (2003, p.191)](https://books.google.co.uk/books/about/Geographic_Information_Analysis.html?id=K_kQN-GO7uUC) note,\n",
    "\n",
    "> Generally, the choice of neighbourhoods [rule] should not affect the scores and the decision about the overal structure, but this is not always the case. ... Despite clearly nonrandom appearance of the [*Negative*] grid, *none* of these [p-values for Queen Rule] indicate any departure from the independent random process! This demonstrates that the joins count statistic must be treated with some caution."
   ]
  },
  {
   "cell_type": "markdown",
   "metadata": {},
   "source": [
    "# Application of Join Counts <a name=\"applied\"></a>\n",
    "\n",
    "To see an application of the Join Counts method with real world data, we'll look at the results of the UK Brexit vote (as presented in [Rey *et al.* 2020](https://geographicdata.science/book/notebooks/06_spatial_autocorrelation.html#an-empirical-illustration-the-eu-referendum)).\n",
    "\n",
    "As [provided](https://geographicdata.science/book/data/brexit/brexit_cleaning.html) by Rey *et al.* (2020), there are two distinct datasets that will need to be loaded and combined:\n",
    "\n",
    "- Electoral Comission data on vote percentages at the local authority level. [CSV]\n",
    "- ONS Local Authority Districts (December 2016) Generalised Clipped Boundaries in the UK WGS84. "
   ]
  },
  {
   "cell_type": "markdown",
   "metadata": {},
   "source": [
    "First load the vote percentage data as a pandas df:"
   ]
  },
  {
   "cell_type": "code",
   "execution_count": 28,
   "metadata": {},
   "outputs": [
    {
     "data": {
      "text/html": [
       "<div>\n",
       "<style scoped>\n",
       "    .dataframe tbody tr th:only-of-type {\n",
       "        vertical-align: middle;\n",
       "    }\n",
       "\n",
       "    .dataframe tbody tr th {\n",
       "        vertical-align: top;\n",
       "    }\n",
       "\n",
       "    .dataframe thead th {\n",
       "        text-align: right;\n",
       "    }\n",
       "</style>\n",
       "<table border=\"1\" class=\"dataframe\">\n",
       "  <thead>\n",
       "    <tr style=\"text-align: right;\">\n",
       "      <th></th>\n",
       "      <th>id</th>\n",
       "      <th>Region_Code</th>\n",
       "      <th>Region</th>\n",
       "      <th>Area</th>\n",
       "      <th>Electorate</th>\n",
       "      <th>ExpectedBallots</th>\n",
       "      <th>VerifiedBallotPapers</th>\n",
       "      <th>Pct_Turnout</th>\n",
       "      <th>Votes_Cast</th>\n",
       "      <th>Valid_Votes</th>\n",
       "      <th>Remain</th>\n",
       "      <th>Leave</th>\n",
       "      <th>Rejected_Ballots</th>\n",
       "      <th>No_official_mark</th>\n",
       "      <th>Voting_for_both_answers</th>\n",
       "      <th>Writing_or_mark</th>\n",
       "      <th>Unmarked_or_void</th>\n",
       "      <th>Pct_Remain</th>\n",
       "      <th>Pct_Leave</th>\n",
       "      <th>Pct_Rejected</th>\n",
       "    </tr>\n",
       "    <tr>\n",
       "      <th>Area_Code</th>\n",
       "      <th></th>\n",
       "      <th></th>\n",
       "      <th></th>\n",
       "      <th></th>\n",
       "      <th></th>\n",
       "      <th></th>\n",
       "      <th></th>\n",
       "      <th></th>\n",
       "      <th></th>\n",
       "      <th></th>\n",
       "      <th></th>\n",
       "      <th></th>\n",
       "      <th></th>\n",
       "      <th></th>\n",
       "      <th></th>\n",
       "      <th></th>\n",
       "      <th></th>\n",
       "      <th></th>\n",
       "      <th></th>\n",
       "      <th></th>\n",
       "    </tr>\n",
       "  </thead>\n",
       "  <tbody>\n",
       "    <tr>\n",
       "      <th>E06000031</th>\n",
       "      <td>108</td>\n",
       "      <td>E12000006</td>\n",
       "      <td>East</td>\n",
       "      <td>Peterborough</td>\n",
       "      <td>120892</td>\n",
       "      <td>87474</td>\n",
       "      <td>87469</td>\n",
       "      <td>72.35</td>\n",
       "      <td>87469</td>\n",
       "      <td>87392</td>\n",
       "      <td>34176</td>\n",
       "      <td>53216</td>\n",
       "      <td>77</td>\n",
       "      <td>0</td>\n",
       "      <td>32</td>\n",
       "      <td>7</td>\n",
       "      <td>38</td>\n",
       "      <td>39.11</td>\n",
       "      <td>60.89</td>\n",
       "      <td>0.09</td>\n",
       "    </tr>\n",
       "    <tr>\n",
       "      <th>E06000032</th>\n",
       "      <td>109</td>\n",
       "      <td>E12000006</td>\n",
       "      <td>East</td>\n",
       "      <td>Luton</td>\n",
       "      <td>127612</td>\n",
       "      <td>84633</td>\n",
       "      <td>84636</td>\n",
       "      <td>66.31</td>\n",
       "      <td>84616</td>\n",
       "      <td>84481</td>\n",
       "      <td>36708</td>\n",
       "      <td>47773</td>\n",
       "      <td>135</td>\n",
       "      <td>0</td>\n",
       "      <td>85</td>\n",
       "      <td>0</td>\n",
       "      <td>50</td>\n",
       "      <td>43.45</td>\n",
       "      <td>56.55</td>\n",
       "      <td>0.16</td>\n",
       "    </tr>\n",
       "    <tr>\n",
       "      <th>E06000033</th>\n",
       "      <td>112</td>\n",
       "      <td>E12000006</td>\n",
       "      <td>East</td>\n",
       "      <td>Southend-on-Sea</td>\n",
       "      <td>128856</td>\n",
       "      <td>93948</td>\n",
       "      <td>93939</td>\n",
       "      <td>72.90</td>\n",
       "      <td>93939</td>\n",
       "      <td>93870</td>\n",
       "      <td>39348</td>\n",
       "      <td>54522</td>\n",
       "      <td>69</td>\n",
       "      <td>0</td>\n",
       "      <td>21</td>\n",
       "      <td>0</td>\n",
       "      <td>48</td>\n",
       "      <td>41.92</td>\n",
       "      <td>58.08</td>\n",
       "      <td>0.07</td>\n",
       "    </tr>\n",
       "    <tr>\n",
       "      <th>E06000034</th>\n",
       "      <td>113</td>\n",
       "      <td>E12000006</td>\n",
       "      <td>East</td>\n",
       "      <td>Thurrock</td>\n",
       "      <td>109897</td>\n",
       "      <td>79969</td>\n",
       "      <td>79954</td>\n",
       "      <td>72.75</td>\n",
       "      <td>79950</td>\n",
       "      <td>79916</td>\n",
       "      <td>22151</td>\n",
       "      <td>57765</td>\n",
       "      <td>34</td>\n",
       "      <td>0</td>\n",
       "      <td>8</td>\n",
       "      <td>3</td>\n",
       "      <td>23</td>\n",
       "      <td>27.72</td>\n",
       "      <td>72.28</td>\n",
       "      <td>0.04</td>\n",
       "    </tr>\n",
       "    <tr>\n",
       "      <th>E06000055</th>\n",
       "      <td>110</td>\n",
       "      <td>E12000006</td>\n",
       "      <td>East</td>\n",
       "      <td>Bedford</td>\n",
       "      <td>119530</td>\n",
       "      <td>86136</td>\n",
       "      <td>86136</td>\n",
       "      <td>72.06</td>\n",
       "      <td>86135</td>\n",
       "      <td>86066</td>\n",
       "      <td>41497</td>\n",
       "      <td>44569</td>\n",
       "      <td>69</td>\n",
       "      <td>0</td>\n",
       "      <td>26</td>\n",
       "      <td>1</td>\n",
       "      <td>42</td>\n",
       "      <td>48.22</td>\n",
       "      <td>51.78</td>\n",
       "      <td>0.08</td>\n",
       "    </tr>\n",
       "  </tbody>\n",
       "</table>\n",
       "</div>"
      ],
      "text/plain": [
       "            id Region_Code Region             Area  Electorate  \\\n",
       "Area_Code                                                        \n",
       "E06000031  108   E12000006   East     Peterborough      120892   \n",
       "E06000032  109   E12000006   East            Luton      127612   \n",
       "E06000033  112   E12000006   East  Southend-on-Sea      128856   \n",
       "E06000034  113   E12000006   East         Thurrock      109897   \n",
       "E06000055  110   E12000006   East          Bedford      119530   \n",
       "\n",
       "           ExpectedBallots  VerifiedBallotPapers  Pct_Turnout  Votes_Cast  \\\n",
       "Area_Code                                                                   \n",
       "E06000031            87474                 87469        72.35       87469   \n",
       "E06000032            84633                 84636        66.31       84616   \n",
       "E06000033            93948                 93939        72.90       93939   \n",
       "E06000034            79969                 79954        72.75       79950   \n",
       "E06000055            86136                 86136        72.06       86135   \n",
       "\n",
       "           Valid_Votes  Remain  Leave  Rejected_Ballots  No_official_mark  \\\n",
       "Area_Code                                                                   \n",
       "E06000031        87392   34176  53216                77                 0   \n",
       "E06000032        84481   36708  47773               135                 0   \n",
       "E06000033        93870   39348  54522                69                 0   \n",
       "E06000034        79916   22151  57765                34                 0   \n",
       "E06000055        86066   41497  44569                69                 0   \n",
       "\n",
       "           Voting_for_both_answers  Writing_or_mark  Unmarked_or_void  \\\n",
       "Area_Code                                                               \n",
       "E06000031                       32                7                38   \n",
       "E06000032                       85                0                50   \n",
       "E06000033                       21                0                48   \n",
       "E06000034                        8                3                23   \n",
       "E06000055                       26                1                42   \n",
       "\n",
       "           Pct_Remain  Pct_Leave  Pct_Rejected  \n",
       "Area_Code                                       \n",
       "E06000031       39.11      60.89          0.09  \n",
       "E06000032       43.45      56.55          0.16  \n",
       "E06000033       41.92      58.08          0.07  \n",
       "E06000034       27.72      72.28          0.04  \n",
       "E06000055       48.22      51.78          0.08  "
      ]
     },
     "execution_count": 28,
     "metadata": {},
     "output_type": "execute_result"
    }
   ],
   "source": [
    "brexit_data_path = '../../data/brexit/brexit_vote.csv'\n",
    "ref = pd.read_csv(brexit_data_path, index_col='Area_Code')\n",
    "ref.head()"
   ]
  },
  {
   "cell_type": "markdown",
   "metadata": {},
   "source": [
    "Next load the local authority district boundaries as a geopandas geodf:"
   ]
  },
  {
   "cell_type": "code",
   "execution_count": 29,
   "metadata": {},
   "outputs": [
    {
     "data": {
      "text/html": [
       "<div>\n",
       "<style scoped>\n",
       "    .dataframe tbody tr th:only-of-type {\n",
       "        vertical-align: middle;\n",
       "    }\n",
       "\n",
       "    .dataframe tbody tr th {\n",
       "        vertical-align: top;\n",
       "    }\n",
       "\n",
       "    .dataframe thead th {\n",
       "        text-align: right;\n",
       "    }\n",
       "</style>\n",
       "<table border=\"1\" class=\"dataframe\">\n",
       "  <thead>\n",
       "    <tr style=\"text-align: right;\">\n",
       "      <th></th>\n",
       "      <th>objectid</th>\n",
       "      <th>lad16nm</th>\n",
       "      <th>lad16nmw</th>\n",
       "      <th>bng_e</th>\n",
       "      <th>bng_n</th>\n",
       "      <th>long</th>\n",
       "      <th>lat</th>\n",
       "      <th>st_areasha</th>\n",
       "      <th>st_lengths</th>\n",
       "      <th>geometry</th>\n",
       "    </tr>\n",
       "    <tr>\n",
       "      <th>lad16cd</th>\n",
       "      <th></th>\n",
       "      <th></th>\n",
       "      <th></th>\n",
       "      <th></th>\n",
       "      <th></th>\n",
       "      <th></th>\n",
       "      <th></th>\n",
       "      <th></th>\n",
       "      <th></th>\n",
       "      <th></th>\n",
       "    </tr>\n",
       "  </thead>\n",
       "  <tbody>\n",
       "    <tr>\n",
       "      <th>E06000001</th>\n",
       "      <td>1</td>\n",
       "      <td>Hartlepool</td>\n",
       "      <td>None</td>\n",
       "      <td>447157</td>\n",
       "      <td>531476</td>\n",
       "      <td>-1.27023</td>\n",
       "      <td>54.676159</td>\n",
       "      <td>0.013041</td>\n",
       "      <td>0.879421</td>\n",
       "      <td>MULTIPOLYGON (((-1.27024 54.72716, -1.38088 54...</td>\n",
       "    </tr>\n",
       "    <tr>\n",
       "      <th>E06000002</th>\n",
       "      <td>2</td>\n",
       "      <td>Middlesbrough</td>\n",
       "      <td>None</td>\n",
       "      <td>451141</td>\n",
       "      <td>516887</td>\n",
       "      <td>-1.21099</td>\n",
       "      <td>54.544670</td>\n",
       "      <td>0.007484</td>\n",
       "      <td>0.535764</td>\n",
       "      <td>MULTIPOLYGON (((-1.23001 54.58410, -1.28158 54...</td>\n",
       "    </tr>\n",
       "    <tr>\n",
       "      <th>E06000003</th>\n",
       "      <td>3</td>\n",
       "      <td>Redcar and Cleveland</td>\n",
       "      <td>None</td>\n",
       "      <td>464359</td>\n",
       "      <td>519597</td>\n",
       "      <td>-1.00611</td>\n",
       "      <td>54.567520</td>\n",
       "      <td>0.034014</td>\n",
       "      <td>1.266847</td>\n",
       "      <td>MULTIPOLYGON (((-1.13716 54.64693, -1.13256 54...</td>\n",
       "    </tr>\n",
       "    <tr>\n",
       "      <th>E06000004</th>\n",
       "      <td>4</td>\n",
       "      <td>Stockton-on-Tees</td>\n",
       "      <td>None</td>\n",
       "      <td>444937</td>\n",
       "      <td>518183</td>\n",
       "      <td>-1.30669</td>\n",
       "      <td>54.556911</td>\n",
       "      <td>0.028479</td>\n",
       "      <td>1.424195</td>\n",
       "      <td>MULTIPOLYGON (((-1.31774 54.64524, -1.38088 54...</td>\n",
       "    </tr>\n",
       "    <tr>\n",
       "      <th>E06000010</th>\n",
       "      <td>10</td>\n",
       "      <td>Kingston upon Hull, City of</td>\n",
       "      <td>None</td>\n",
       "      <td>511894</td>\n",
       "      <td>431716</td>\n",
       "      <td>-0.30380</td>\n",
       "      <td>53.769791</td>\n",
       "      <td>0.009740</td>\n",
       "      <td>0.782168</td>\n",
       "      <td>MULTIPOLYGON (((-0.31613 53.81325, -0.35366 53...</td>\n",
       "    </tr>\n",
       "  </tbody>\n",
       "</table>\n",
       "</div>"
      ],
      "text/plain": [
       "           objectid                      lad16nm lad16nmw   bng_e   bng_n  \\\n",
       "lad16cd                                                                     \n",
       "E06000001         1                   Hartlepool     None  447157  531476   \n",
       "E06000002         2                Middlesbrough     None  451141  516887   \n",
       "E06000003         3         Redcar and Cleveland     None  464359  519597   \n",
       "E06000004         4             Stockton-on-Tees     None  444937  518183   \n",
       "E06000010        10  Kingston upon Hull, City of     None  511894  431716   \n",
       "\n",
       "              long        lat  st_areasha  st_lengths  \\\n",
       "lad16cd                                                 \n",
       "E06000001 -1.27023  54.676159    0.013041    0.879421   \n",
       "E06000002 -1.21099  54.544670    0.007484    0.535764   \n",
       "E06000003 -1.00611  54.567520    0.034014    1.266847   \n",
       "E06000004 -1.30669  54.556911    0.028479    1.424195   \n",
       "E06000010 -0.30380  53.769791    0.009740    0.782168   \n",
       "\n",
       "                                                    geometry  \n",
       "lad16cd                                                       \n",
       "E06000001  MULTIPOLYGON (((-1.27024 54.72716, -1.38088 54...  \n",
       "E06000002  MULTIPOLYGON (((-1.23001 54.58410, -1.28158 54...  \n",
       "E06000003  MULTIPOLYGON (((-1.13716 54.64693, -1.13256 54...  \n",
       "E06000004  MULTIPOLYGON (((-1.31774 54.64524, -1.38088 54...  \n",
       "E06000010  MULTIPOLYGON (((-0.31613 53.81325, -0.35366 53...  "
      ]
     },
     "execution_count": 29,
     "metadata": {},
     "output_type": "execute_result"
    }
   ],
   "source": [
    "lads = gpd.read_file(\"../../data/brexit/local_authority_districts.geojson\").set_index('lad16cd')\n",
    "lads.head()"
   ]
  },
  {
   "cell_type": "markdown",
   "metadata": {},
   "source": [
    "And then `join` the df to the geodf (the two df have the same index, using local autority district codes) and select only the columns we need for the analysis:"
   ]
  },
  {
   "cell_type": "code",
   "execution_count": 30,
   "metadata": {},
   "outputs": [
    {
     "data": {
      "text/html": [
       "<div>\n",
       "<style scoped>\n",
       "    .dataframe tbody tr th:only-of-type {\n",
       "        vertical-align: middle;\n",
       "    }\n",
       "\n",
       "    .dataframe tbody tr th {\n",
       "        vertical-align: top;\n",
       "    }\n",
       "\n",
       "    .dataframe thead th {\n",
       "        text-align: right;\n",
       "    }\n",
       "</style>\n",
       "<table border=\"1\" class=\"dataframe\">\n",
       "  <thead>\n",
       "    <tr style=\"text-align: right;\">\n",
       "      <th></th>\n",
       "      <th>objectid</th>\n",
       "      <th>lad16nm</th>\n",
       "      <th>Pct_Leave</th>\n",
       "      <th>geometry</th>\n",
       "    </tr>\n",
       "    <tr>\n",
       "      <th>lad16cd</th>\n",
       "      <th></th>\n",
       "      <th></th>\n",
       "      <th></th>\n",
       "      <th></th>\n",
       "    </tr>\n",
       "  </thead>\n",
       "  <tbody>\n",
       "    <tr>\n",
       "      <th>E06000001</th>\n",
       "      <td>1</td>\n",
       "      <td>Hartlepool</td>\n",
       "      <td>69.57</td>\n",
       "      <td>MULTIPOLYGON (((-1.27024 54.72716, -1.38088 54...</td>\n",
       "    </tr>\n",
       "    <tr>\n",
       "      <th>E06000002</th>\n",
       "      <td>2</td>\n",
       "      <td>Middlesbrough</td>\n",
       "      <td>65.48</td>\n",
       "      <td>MULTIPOLYGON (((-1.23001 54.58410, -1.28158 54...</td>\n",
       "    </tr>\n",
       "    <tr>\n",
       "      <th>E06000003</th>\n",
       "      <td>3</td>\n",
       "      <td>Redcar and Cleveland</td>\n",
       "      <td>66.19</td>\n",
       "      <td>MULTIPOLYGON (((-1.13716 54.64693, -1.13256 54...</td>\n",
       "    </tr>\n",
       "    <tr>\n",
       "      <th>E06000004</th>\n",
       "      <td>4</td>\n",
       "      <td>Stockton-on-Tees</td>\n",
       "      <td>61.73</td>\n",
       "      <td>MULTIPOLYGON (((-1.31774 54.64524, -1.38088 54...</td>\n",
       "    </tr>\n",
       "    <tr>\n",
       "      <th>E06000010</th>\n",
       "      <td>10</td>\n",
       "      <td>Kingston upon Hull, City of</td>\n",
       "      <td>67.62</td>\n",
       "      <td>MULTIPOLYGON (((-0.31613 53.81325, -0.35366 53...</td>\n",
       "    </tr>\n",
       "  </tbody>\n",
       "</table>\n",
       "</div>"
      ],
      "text/plain": [
       "           objectid                      lad16nm  Pct_Leave  \\\n",
       "lad16cd                                                       \n",
       "E06000001         1                   Hartlepool      69.57   \n",
       "E06000002         2                Middlesbrough      65.48   \n",
       "E06000003         3         Redcar and Cleveland      66.19   \n",
       "E06000004         4             Stockton-on-Tees      61.73   \n",
       "E06000010        10  Kingston upon Hull, City of      67.62   \n",
       "\n",
       "                                                    geometry  \n",
       "lad16cd                                                       \n",
       "E06000001  MULTIPOLYGON (((-1.27024 54.72716, -1.38088 54...  \n",
       "E06000002  MULTIPOLYGON (((-1.23001 54.58410, -1.28158 54...  \n",
       "E06000003  MULTIPOLYGON (((-1.13716 54.64693, -1.13256 54...  \n",
       "E06000004  MULTIPOLYGON (((-1.31774 54.64524, -1.38088 54...  \n",
       "E06000010  MULTIPOLYGON (((-0.31613 53.81325, -0.35366 53...  "
      ]
     },
     "execution_count": 30,
     "metadata": {},
     "output_type": "execute_result"
    }
   ],
   "source": [
    "gdf = gpd.GeoDataFrame(lads.join(ref[['Pct_Leave']]), crs=lads.crs)\n",
    "gdf = gdf[['objectid', 'lad16nm', 'Pct_Leave', 'geometry']].dropna()\n",
    "gdf.head()"
   ]
  },
  {
   "cell_type": "markdown",
   "metadata": {},
   "source": [
    "Let's quickly visualise the vote percentage data:"
   ]
  },
  {
   "cell_type": "code",
   "execution_count": 31,
   "metadata": {},
   "outputs": [
    {
     "data": {
      "image/png": "[encoded data removed]",
      "text/plain": [
       "<Figure size 900x900 with 1 Axes>"
      ]
     },
     "metadata": {},
     "output_type": "display_data"
    }
   ],
   "source": [
    "fig, ax = plt.subplots(1, figsize=(9, 9))\n",
    "gdf.plot(column='Pct_Leave', cmap='viridis', \n",
    "        scheme='quantiles', k=5, \n",
    "        linewidth=0., \n",
    "        legend=True, legend_kwds={\"title\":\"Leave Vote (%)\",\"loc\": 2},\n",
    "        ax=ax\n",
    "       )\n",
    "ax.set_axis_off()"
   ]
  },
  {
   "cell_type": "markdown",
   "metadata": {},
   "source": [
    "To use the Joins Count method we need a binary map. Let's create that using 50% as the vote percentage to define districts that voted to leave vs remain in the EU:  "
   ]
  },
  {
   "cell_type": "code",
   "execution_count": 32,
   "metadata": {},
   "outputs": [
    {
     "data": {
      "text/html": [
       "<div>\n",
       "<style scoped>\n",
       "    .dataframe tbody tr th:only-of-type {\n",
       "        vertical-align: middle;\n",
       "    }\n",
       "\n",
       "    .dataframe tbody tr th {\n",
       "        vertical-align: top;\n",
       "    }\n",
       "\n",
       "    .dataframe thead th {\n",
       "        text-align: right;\n",
       "    }\n",
       "</style>\n",
       "<table border=\"1\" class=\"dataframe\">\n",
       "  <thead>\n",
       "    <tr style=\"text-align: right;\">\n",
       "      <th></th>\n",
       "      <th>objectid</th>\n",
       "      <th>lad16nm</th>\n",
       "      <th>Pct_Leave</th>\n",
       "      <th>geometry</th>\n",
       "      <th>Leave</th>\n",
       "    </tr>\n",
       "    <tr>\n",
       "      <th>lad16cd</th>\n",
       "      <th></th>\n",
       "      <th></th>\n",
       "      <th></th>\n",
       "      <th></th>\n",
       "      <th></th>\n",
       "    </tr>\n",
       "  </thead>\n",
       "  <tbody>\n",
       "    <tr>\n",
       "      <th>W06000018</th>\n",
       "      <td>385</td>\n",
       "      <td>Caerphilly</td>\n",
       "      <td>57.63</td>\n",
       "      <td>POLYGON ((-3.30131 51.79897, -3.31009 51.79430...</td>\n",
       "      <td>1</td>\n",
       "    </tr>\n",
       "    <tr>\n",
       "      <th>W06000019</th>\n",
       "      <td>386</td>\n",
       "      <td>Blaenau Gwent</td>\n",
       "      <td>62.03</td>\n",
       "      <td>POLYGON ((-3.24823 51.81515, -3.31009 51.79430...</td>\n",
       "      <td>1</td>\n",
       "    </tr>\n",
       "    <tr>\n",
       "      <th>W06000021</th>\n",
       "      <td>388</td>\n",
       "      <td>Monmouthshire</td>\n",
       "      <td>49.56</td>\n",
       "      <td>MULTIPOLYGON (((-3.05214 51.97294, -3.06736 51...</td>\n",
       "      <td>0</td>\n",
       "    </tr>\n",
       "    <tr>\n",
       "      <th>W06000022</th>\n",
       "      <td>389</td>\n",
       "      <td>Newport</td>\n",
       "      <td>55.99</td>\n",
       "      <td>MULTIPOLYGON (((-2.83439 51.64824, -2.88647 51...</td>\n",
       "      <td>1</td>\n",
       "    </tr>\n",
       "    <tr>\n",
       "      <th>W06000023</th>\n",
       "      <td>390</td>\n",
       "      <td>Powys</td>\n",
       "      <td>53.74</td>\n",
       "      <td>POLYGON ((-3.15484 52.89808, -3.23300 52.86699...</td>\n",
       "      <td>1</td>\n",
       "    </tr>\n",
       "  </tbody>\n",
       "</table>\n",
       "</div>"
      ],
      "text/plain": [
       "           objectid        lad16nm  Pct_Leave  \\\n",
       "lad16cd                                         \n",
       "W06000018       385     Caerphilly      57.63   \n",
       "W06000019       386  Blaenau Gwent      62.03   \n",
       "W06000021       388  Monmouthshire      49.56   \n",
       "W06000022       389        Newport      55.99   \n",
       "W06000023       390          Powys      53.74   \n",
       "\n",
       "                                                    geometry  Leave  \n",
       "lad16cd                                                              \n",
       "W06000018  POLYGON ((-3.30131 51.79897, -3.31009 51.79430...      1  \n",
       "W06000019  POLYGON ((-3.24823 51.81515, -3.31009 51.79430...      1  \n",
       "W06000021  MULTIPOLYGON (((-3.05214 51.97294, -3.06736 51...      0  \n",
       "W06000022  MULTIPOLYGON (((-2.83439 51.64824, -2.88647 51...      1  \n",
       "W06000023  POLYGON ((-3.15484 52.89808, -3.23300 52.86699...      1  "
      ]
     },
     "execution_count": 32,
     "metadata": {},
     "output_type": "execute_result"
    }
   ],
   "source": [
    "gdf['Leave'] = (gdf['Pct_Leave'] > 50).astype(int)\n",
    "gdf.tail()"
   ]
  },
  {
   "cell_type": "markdown",
   "metadata": {},
   "source": [
    "And let's map that new binary variable:"
   ]
  },
  {
   "cell_type": "code",
   "execution_count": 33,
   "metadata": {},
   "outputs": [
    {
     "data": {
      "image/png": "[encoded data removed]",
      "text/plain": [
       "<Figure size 900x900 with 1 Axes>"
      ]
     },
     "metadata": {},
     "output_type": "display_data"
    }
   ],
   "source": [
    "fig, ax = plt.subplots(1, figsize=(9, 9))\n",
    "gdf.plot(column='Leave', cmap='viridis', \n",
    "         categorical=True, linewidth=0., \n",
    "         legend=True, legend_kwds={\"title\":\"Majority\",\"loc\": 2},\n",
    "        ax=ax)\n",
    "ax.set_axis_off()\n",
    "ax.get_legend().get_texts()[0].set_text(\"Remain\")\n",
    "ax.get_legend().get_texts()[1].set_text(\"Leave\")\n",
    "plt.show()"
   ]
  },
  {
   "cell_type": "markdown",
   "metadata": {},
   "source": [
    "This is the equivalent of our grids above. From looking at the map, do you think there is a presence of spatial autocorrelation? If so, do you think it is positive or negative? (i.e. are alike districts more clustered or dispersed?)\n",
    "\n",
    "To calculate our join counts we need to create a spatial weights object. We'll use K Nearest Neighbours with `k=8` (you could try different values of `k` or different types of neighbour relation): "
   ]
  },
  {
   "cell_type": "code",
   "execution_count": 34,
   "metadata": {},
   "outputs": [],
   "source": [
    "w = weights.KNN.from_dataframe(gdf, k=16)"
   ]
  },
  {
   "cell_type": "code",
   "execution_count": 35,
   "metadata": {},
   "outputs": [],
   "source": [
    "w = weights.contiguity.Queen.from_dataframe(gdf)"
   ]
  },
  {
   "cell_type": "markdown",
   "metadata": {},
   "source": [
    "And now we can create our Join Counts object:"
   ]
  },
  {
   "cell_type": "code",
   "execution_count": 36,
   "metadata": {},
   "outputs": [],
   "source": [
    "np.random.seed(1234)\n",
    "jc = esda.join_counts.Join_Counts(gdf['Leave'], w)"
   ]
  },
  {
   "cell_type": "markdown",
   "metadata": {},
   "source": [
    "As above for our simple grid we can check the counts of the different types of join:"
   ]
  },
  {
   "cell_type": "code",
   "execution_count": 37,
   "metadata": {},
   "outputs": [
    {
     "data": {
      "text/plain": [
       "556.0"
      ]
     },
     "execution_count": 37,
     "metadata": {},
     "output_type": "execute_result"
    }
   ],
   "source": [
    "jc.bb"
   ]
  },
  {
   "cell_type": "code",
   "execution_count": 38,
   "metadata": {},
   "outputs": [
    {
     "data": {
      "text/plain": [
       "556.0"
      ]
     },
     "execution_count": 38,
     "metadata": {},
     "output_type": "execute_result"
    }
   ],
   "source": [
    "jc.bb"
   ]
  },
  {
   "cell_type": "code",
   "execution_count": 39,
   "metadata": {},
   "outputs": [
    {
     "data": {
      "text/plain": [
       "171.0"
      ]
     },
     "execution_count": 39,
     "metadata": {},
     "output_type": "execute_result"
    }
   ],
   "source": [
    "jc.ww"
   ]
  },
  {
   "cell_type": "code",
   "execution_count": 40,
   "metadata": {},
   "outputs": [
    {
     "data": {
      "text/plain": [
       "171.0"
      ]
     },
     "execution_count": 40,
     "metadata": {},
     "output_type": "execute_result"
    }
   ],
   "source": [
    "jc.ww"
   ]
  },
  {
   "cell_type": "code",
   "execution_count": 41,
   "metadata": {},
   "outputs": [
    {
     "data": {
      "text/plain": [
       "211.0"
      ]
     },
     "execution_count": 41,
     "metadata": {},
     "output_type": "execute_result"
    }
   ],
   "source": [
    "jc.bw"
   ]
  },
  {
   "cell_type": "code",
   "execution_count": 42,
   "metadata": {},
   "outputs": [
    {
     "data": {
      "text/plain": [
       "211.0"
      ]
     },
     "execution_count": 42,
     "metadata": {},
     "output_type": "execute_result"
    }
   ],
   "source": [
    "jc.bw"
   ]
  },
  {
   "cell_type": "code",
   "execution_count": 43,
   "metadata": {},
   "outputs": [
    {
     "data": {
      "text/plain": [
       "938.0"
      ]
     },
     "execution_count": 43,
     "metadata": {},
     "output_type": "execute_result"
    }
   ],
   "source": [
    "jc.J"
   ]
  },
  {
   "cell_type": "code",
   "execution_count": 44,
   "metadata": {},
   "outputs": [
    {
     "data": {
      "text/plain": [
       "938.0"
      ]
     },
     "execution_count": 44,
     "metadata": {},
     "output_type": "execute_result"
    }
   ],
   "source": [
    "jc.J"
   ]
  },
  {
   "cell_type": "markdown",
   "metadata": {},
   "source": [
    "From looking at the counts (relative to the total number of joins) do you think spatial autocorrelation is present? \n",
    "\n",
    "Let's examine the pseudo p-values to check:"
   ]
  },
  {
   "cell_type": "code",
   "execution_count": 45,
   "metadata": {},
   "outputs": [
    {
     "data": {
      "text/plain": [
       "0.001"
      ]
     },
     "execution_count": 45,
     "metadata": {},
     "output_type": "execute_result"
    }
   ],
   "source": [
    "jc.p_sim_bb"
   ]
  },
  {
   "cell_type": "code",
   "execution_count": 46,
   "metadata": {},
   "outputs": [
    {
     "data": {
      "text/plain": [
       "0.001"
      ]
     },
     "execution_count": 46,
     "metadata": {},
     "output_type": "execute_result"
    }
   ],
   "source": [
    "jc.p_sim_bb"
   ]
  },
  {
   "cell_type": "code",
   "execution_count": 47,
   "metadata": {},
   "outputs": [
    {
     "data": {
      "text/plain": [
       "1.0"
      ]
     },
     "execution_count": 47,
     "metadata": {},
     "output_type": "execute_result"
    }
   ],
   "source": [
    "jc.p_sim_bw"
   ]
  },
  {
   "cell_type": "code",
   "execution_count": 48,
   "metadata": {},
   "outputs": [
    {
     "data": {
      "text/plain": [
       "1.0"
      ]
     },
     "execution_count": 48,
     "metadata": {},
     "output_type": "execute_result"
    }
   ],
   "source": [
    "jc.p_sim_bw"
   ]
  },
  {
   "cell_type": "markdown",
   "metadata": {},
   "source": [
    "Remember, hypotheses for [these p-values](https://pysal.org/esda/generated/esda.Join_Counts.html#esda.Join_Counts) are:\n",
    "- Null: complete spatial randomness\n",
    "- Alternative: the observed BW or BB is greater than under randomness"
   ]
  },
  {
   "cell_type": "markdown",
   "metadata": {},
   "source": [
    "So the results above indicate that at 95% confidence we can reject the null hypothesis for BB (because pseudo p < 0.05) but not for BW (because pseudo p >= 0.05). In turn, this means we can say that at 95% confidence there is positive spatial autocorrelation (according to the join counts statistic). That is, districts are more clustered than dispersed in their voting tendency. \n",
    "\n",
    "Finally, we can confirm that our observed BB count is larger than expected by change by visualising it compared to the distribution of randomly simulated maps (using the observed proportions of districts voting leave vs remain). "
   ]
  },
  {
   "cell_type": "code",
   "execution_count": 49,
   "metadata": {},
   "outputs": [
    {
     "data": {
      "image/png": "[encoded data removed]",
      "text/plain": [
       "<Figure size 640x480 with 1 Axes>"
      ]
     },
     "metadata": {},
     "output_type": "display_data"
    }
   ],
   "source": [
    "plt.hist(jc.sim_bb, 10, facecolor='lightblue', edgecolor='black')\n",
    "plt.vlines(jc.bb, 0, 400, color='r', linestyle=\"--\")\n",
    "plt.xlabel(\"BB Count\")\n",
    "plt.ylabel(\"Frequency\")\n",
    "plt.show()"
   ]
  },
  {
   "cell_type": "markdown",
   "metadata": {},
   "source": [
    "The observed count of alike joins between neighbouring districts certainly seems to be much greater than we would expect by chance. "
   ]
  },
  {
   "cell_type": "markdown",
   "metadata": {},
   "source": [
    "# Bonus Theory!\n",
    "\n",
    "This is an optional section for those of you who really want to compound your understanding. This final section revisits the <a href=\"#type\">Join Counts Theory section</a> to examine the second approach to assessing statistical significance (i.e. whether observations are different from complete spatial randomeness). \n",
    "\n",
    "## Assessing Presence of Spatial Autocorrelation (Analytic) <a name=\"analytic\"></a>\n",
    "\n",
    "In Chapter 7 of the **2003** edition of their book *Geographic Information Analysis*, [O'Sullivan and Unwin provide a detailed work through](https://github.com/jamesdamillington/john-snow/blob/main/pdf/OSullivanUnwin2003_Section7_4.pdf) of the analytic approach to deriving z-scores (i.e. using equations rather than the permuation approach above). The code below provides a python implementation of the equations therein. A short discussion is provided below the code, showing their use and commenting on interpretation. "
   ]
  },
  {
   "cell_type": "code",
   "execution_count": 50,
   "metadata": {},
   "outputs": [],
   "source": [
    "def calcM(weightsObject):\n",
    "\n",
    "    #function to calculate Eq 7.26 OSU (2003) \n",
    "\n",
    "    cumsum=0\n",
    "    for a in weightsObject:\n",
    "\n",
    "        #a is the weights for each location (all 1s)\n",
    "        nbs = list(a[1].values())  #get these weights as a list\n",
    "\n",
    "        #replace the elements of the list with the length of the list -1\n",
    "        for i,n in enumerate(nbs):\n",
    "            nbs[i] = len(nbs)-1\n",
    "\n",
    "        #cumulative sum of the new values\n",
    "        cumsum+=np.sum(nbs)\n",
    "\n",
    "    #return 0.5*cusmsum\n",
    "    return(cumsum*0.5)"
   ]
  },
  {
   "cell_type": "code",
   "execution_count": 51,
   "metadata": {},
   "outputs": [],
   "source": [
    "def calcpB(JCW):\n",
    "    #OSU (2003) assume pB = 0.5 but note normally it would be estimated from the data \n",
    "    return(0.5)\n",
    "    #one way to estimate from data (assumes Black is coded 1): \n",
    "    #sum of y / length of y   [count B / count cells]\n",
    "    #return(JCW.y.sum()/len(JCW.y))\n",
    "    \n",
    "\n",
    "def calcpW(JCW):\n",
    "    #OSU (2003) assume pW = 0.5 but note normally it would be estimated from the data \n",
    "    return(0.5)\n",
    "    #one way to estimate from data (assumes White is coded 0)\n",
    "    #length of y - (sum of y / length of y)   [count cells - (count B / count cells)]\n",
    "    #return((len(JCW.y) - JCW.y.sum())/len(JCW.y))"
   ]
  },
  {
   "cell_type": "code",
   "execution_count": 52,
   "metadata": {},
   "outputs": [],
   "source": [
    "def calcExpectedBB(JCW):\n",
    "    #kpB^2 from Eq 7.24 OSU (2003)\n",
    "    return(JCW.J*calcpB(JCW)**2)\n",
    "\n",
    "def calcExpectedWW(JCW):\n",
    "    #kpW^2 from Eq 7.24 OSU (2003)\n",
    "    return(JCW.J*calcpW(JCW)**2)\n",
    "\n",
    "def calcExpectedBW(JCW):\n",
    "    #2kpBpW from Eq 7.24 OSU (2003)\n",
    "    return(2*JCW.J*calcpB(JCW)*calcpW(JCW))"
   ]
  },
  {
   "cell_type": "code",
   "execution_count": 53,
   "metadata": {},
   "outputs": [],
   "source": [
    "def calcStdDevBB(JCW):\n",
    "    #Eq 7.29 OSU (2003)\n",
    "    f=calcExpectedBB(JCW)\n",
    "    s=2*calcM(JCW.w)*calcpB(JCW)**3\n",
    "    t=(JCW.J + (2*calcM(JCW.w)))*calcpB(JCW)**4\n",
    "    \n",
    "    return(np.sqrt(f+s-t))\n",
    "\n",
    "def calcStdDevWW(JCW):\n",
    "    #Eq 7.29 OSU (2003)\n",
    "    return(calcStdDevBB(JCW))\n",
    "\n",
    "def calcStdDevBW(JCW):\n",
    "    #Eq 7.30 OSU (2003)\n",
    "    f=2*(JCW.J+calcM(JCW.w))*calcpB(JCW)*calcpW(JCW)\n",
    "    s=4*(JCW.J+(2*calcM(JCW.w)))*calcpB(JCW)**2*calcpW(JCW)**2\n",
    "    \n",
    "    return(np.sqrt(f-s))"
   ]
  },
  {
   "cell_type": "code",
   "execution_count": 54,
   "metadata": {},
   "outputs": [],
   "source": [
    "def calcZBB(JCW):\n",
    "    #(observed - expected) / StdDev\n",
    "    return((JCW.bb - calcExpectedBB(JCW)) / calcStdDevBB(JCW))\n",
    "\n",
    "def calcZWW(JCW):\n",
    "    #(observed - expected) / StdDev\n",
    "    return((JCW.ww - calcExpectedWW(JCW)) / calcStdDevWW(JCW))\n",
    "\n",
    "def calcZBW(JCW):\n",
    "    #(observed - expected) / StdDev\n",
    "    return((JCW.bw - calcExpectedBW(JCW)) / calcStdDevBW(JCW))"
   ]
  },
  {
   "cell_type": "code",
   "execution_count": 55,
   "metadata": {},
   "outputs": [],
   "source": [
    "#function to output results from join_counts object, with z-scores \n",
    "def printJointCounts(JCW):\n",
    "    bcount = JCW.y.sum()\n",
    "    wcount = len(JCW.y) - bcount\n",
    "    print(\"Count Black = \" + str(bcount)) \n",
    "    print(\"Count White = \" + str(wcount)) \n",
    "    print(\"Total Joins = \" + str(JCW.J))\n",
    "    print(\"BB Joins: count = \" + str(JCW.bb) + \",\\t z = \", str(round(calcZBB(JCW),3)) + \")\")\n",
    "    print(\"WW Joins: count = \" + str(JCW.ww) + \",\\t z = \", str(round(calcZWW(JCW),3)) + \")\")\n",
    "    print(\"BW Joins: count = \" + str(JCW.bw) + \",\\t z = \", str(round(calcZBW(JCW),3)) + \")\")"
   ]
  },
  {
   "cell_type": "markdown",
   "metadata": {},
   "source": [
    "The code above allows us to analystically calculate z-scores for the different count types. For example, for the *positive* and *negative* grids using Rook Rule: "
   ]
  },
  {
   "cell_type": "code",
   "execution_count": 56,
   "metadata": {},
   "outputs": [
    {
     "name": "stdout",
     "output_type": "stream",
     "text": [
      "Count Black = 18\n",
      "Count White = 18\n",
      "Total Joins = 60.0\n",
      "BB Joins: count = 27.0,\t z =  2.2)\n",
      "WW Joins: count = 27.0,\t z =  2.2)\n",
      "BW Joins: count = 6.0,\t z =  -6.197)\n"
     ]
    }
   ],
   "source": [
    "printJointCounts(posJCR)"
   ]
  },
  {
   "cell_type": "code",
   "execution_count": 57,
   "metadata": {},
   "outputs": [
    {
     "name": "stdout",
     "output_type": "stream",
     "text": [
      "Count Black = 18\n",
      "Count White = 18\n",
      "Total Joins = 60.0\n",
      "BB Joins: count = 0.0,\t z =  -2.75)\n",
      "WW Joins: count = 0.0,\t z =  -2.75)\n",
      "BW Joins: count = 60.0,\t z =  7.746)\n"
     ]
    }
   ],
   "source": [
    "printJointCounts(negJCR)"
   ]
  },
  {
   "cell_type": "markdown",
   "metadata": {},
   "source": [
    "We will also generate the random grid O'Sullivan and Unwin (2003) create to allow direct comparison with their results:"
   ]
  },
  {
   "cell_type": "code",
   "execution_count": 58,
   "metadata": {},
   "outputs": [
    {
     "name": "stdout",
     "output_type": "stream",
     "text": [
      "[1, 0, 0, 1, 0, 1, 1, 0, 0, 0, 1, 0, 1, 0, 1, 1, 0, 1, 1, 0, 0, 1, 0, 1, 0, 0, 0, 0, 1, 0, 0, 0, 1, 0, 0, 1]\n"
     ]
    },
    {
     "data": {
      "image/png": "[encoded data removed]",
      "text/plain": [
       "<Figure size 400x400 with 1 Axes>"
      ]
     },
     "metadata": {},
     "output_type": "display_data"
    }
   ],
   "source": [
    "osuids = [0, 3, 5, 6, 10, 12, 14, 15, 17, 18, 21, 23, 28, 32, 35]\n",
    "osu = [0] * 36\n",
    "for i in range(0,len(osu)):\n",
    "    if(i in osuids):\n",
    "        osu[i] = 1\n",
    "print(osu)\n",
    "sgrid['OSU_75b'] = osu\n",
    "singlePlot('OSU_75b')"
   ]
  },
  {
   "cell_type": "code",
   "execution_count": 59,
   "metadata": {
    "scrolled": true
   },
   "outputs": [
    {
     "name": "stdout",
     "output_type": "stream",
     "text": [
      "Count Black = 15\n",
      "Count White = 21\n",
      "Total Joins = 60.0\n",
      "BB Joins: count = 6.0,\t z =  -1.65)\n",
      "WW Joins: count = 19.0,\t z =  0.733)\n",
      "BW Joins: count = 35.0,\t z =  1.291)\n"
     ]
    }
   ],
   "source": [
    "osuJCR = esda.join_counts.Join_Counts(sgrid['OSU_75b'], RW)\n",
    "printJointCounts(osuJCR)"
   ]
  },
  {
   "cell_type": "markdown",
   "metadata": {},
   "source": [
    "From the results from these three grids you should be able to see how the z-scores match Table 7.2 of O'Sullivan and Unwin (2003).\n",
    "\n",
    "We could take this a step further and compare the z-scores to a normal distribution to calculate a p-value. For example: "
   ]
  },
  {
   "cell_type": "code",
   "execution_count": 60,
   "metadata": {},
   "outputs": [
    {
     "name": "stdout",
     "output_type": "stream",
     "text": [
      "0.014\n"
     ]
    }
   ],
   "source": [
    "import scipy.stats\n",
    "z = calcZWW(posJCR)\n",
    "p = scipy.stats.norm.sf(abs(z))\n",
    "print(round(p,3))"
   ]
  },
  {
   "cell_type": "markdown",
   "metadata": {},
   "source": [
    "However, [Cliff et al. (1974, p.110)](https://doi.org/10.2307/621612) note;\n",
    "\n",
    "> Provided that the distribution of the test statistic is approximately normal for the county system under consideration, Eq (1.3) [used above in `calcZ` functions] can be treated as a standard normal deviate. Cliff and Ord (1973, chapter 2) have shown that the approximation is reasonable for moderate *n*, provided that P(X = 1) is not too near 0 or 1, and the county system is not dominated by few counties. However, for many county systems of practical interest, such as the counties of England, Wales or Scotland, the states of the United States, or the counties of Western Europe, *n* is sufficiently small for the normal distribution to be misleading. \n",
    "\n",
    "In the cases used here, our *n* is likely not sufficiently large and we should use a chi-square. \n",
    "\n",
    "In general, when calculating joins counts with PySAL it is fine to use the pseudo p-values from the permutation approach, and greater uncertainty may actually arise from choice of Contiguity Rule (so given how fast it is to compute, it's often worth comparing results between Rook and Queen rules). "
   ]
  },
  {
   "cell_type": "markdown",
   "metadata": {},
   "source": [
    "# Credits!\n",
    "\n",
    "## Contributors:\n",
    "The following individual(s) have contributed to these teaching materials: James Millington (james.millington@kcl.ac.uk).\n",
    "\n",
    "## License\n",
    "These teaching materials are licensed under a mix of [The MIT License](https://opensource.org/licenses/mit-license.php) and the [Creative Commons Attribution-NonCommercial-ShareAlike 4.0 license](https://creativecommons.org/licenses/by-nc-sa/4.0/)."
   ]
  }
 ],
 "metadata": {
  "kernelspec": {
   "display_name": "Python 3 (ipykernel)",
   "language": "python",
   "name": "python3"
  },
  "language_info": {
   "codemirror_mode": {
    "name": "ipython",
    "version": 3
   },
   "file_extension": ".py",
   "mimetype": "text/x-python",
   "name": "python",
   "nbconvert_exporter": "python",
   "pygments_lexer": "ipython3",
   "version": "3.9.12"
  }
 },
 "nbformat": 4,
 "nbformat_minor": 4
}
